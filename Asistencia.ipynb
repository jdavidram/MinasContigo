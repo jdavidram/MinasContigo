{
 "cells": [
  {
   "cell_type": "markdown",
   "id": "c3c2e8bf-0de1-43ca-9594-7a3d89a95f5a",
   "metadata": {
    "jp-MarkdownHeadingCollapsed": true,
    "tags": []
   },
   "source": [
    "# Asistencia"
   ]
  },
  {
   "cell_type": "code",
   "execution_count": null,
   "id": "8b7ce436-50be-426c-82a3-090c925d752a",
   "metadata": {},
   "outputs": [],
   "source": [
    "import numpy as np\n",
    "import matplotlib.pyplot as plt\n",
    "import pandas as pd\n",
    "import seaborn as sns\n",
    "import datetime as dt\n",
    "\n",
    "from modules.tools import changeDF"
   ]
  },
  {
   "cell_type": "code",
   "execution_count": null,
   "id": "8c5ff296-4ba9-422c-8ab9-4b4e6d8677d6",
   "metadata": {
    "tags": []
   },
   "outputs": [],
   "source": [
    "notas_parciales = True\n",
    "carga = True\n",
    "final = True"
   ]
  },
  {
   "cell_type": "markdown",
   "id": "c2ad5a64-bb43-4f53-abc0-e3f08a6d26a4",
   "metadata": {
    "jp-MarkdownHeadingCollapsed": true,
    "tags": []
   },
   "source": [
    "# Clean"
   ]
  },
  {
   "cell_type": "code",
   "execution_count": null,
   "id": "3aa36797-178e-4e46-b732-8a3448963337",
   "metadata": {
    "tags": []
   },
   "outputs": [],
   "source": [
    "dfDict = {\n",
    "    'SEMANA': '',\n",
    "    'CORREO': 'Dirección de correo electrónico',\n",
    "    'GENERO': 'Género',\n",
    "    'GRUPO': 'Grupo al que asistió',\n",
    "    'CALIFICACION': 'Califique de 1 a 5 el entrenamiento',\n",
    "    'CARRERA': ['Programa académico', 'Programa académico.1', 'Programa académico.2', 'Programa académico.3', 'Programa académico.4'],\n",
    "    'COMENTARIOS': 'Deja algún comentario a tu entrenador (Opcional)'\n",
    "}"
   ]
  },
  {
   "cell_type": "code",
   "execution_count": null,
   "id": "bb30e2f8-f835-4060-9cfd-8358bfbe4152",
   "metadata": {
    "tags": []
   },
   "outputs": [],
   "source": [
    "data = pd.read_csv('./DATA/Asistencia.csv')\n",
    "\n",
    "dictDF = changeDF(data, dfDict)"
   ]
  },
  {
   "cell_type": "code",
   "execution_count": null,
   "id": "376a8c06-2c78-4d7b-a871-323824f281ef",
   "metadata": {
    "tags": []
   },
   "outputs": [],
   "source": [
    "#first = dt.datetime(2023, 8, 8)\n",
    "first = dt.datetime(2023, 2, 27)\n",
    "\n",
    "for d in list(data['Marca temporal']):\n",
    "    week = dt.datetime.strptime(d, '%d/%m/%Y %H:%M:%S') - first\n",
    "    dictDF['SEMANA'].append(week.days//7)\n",
    "\n",
    "title = 'Resumen de la semana ' + str(dictDF['SEMANA'][-1])"
   ]
  },
  {
   "cell_type": "code",
   "execution_count": null,
   "id": "da6eb626-00dd-447e-bf85-f1ea885af2f7",
   "metadata": {
    "tags": []
   },
   "outputs": [],
   "source": [
    "df = pd.DataFrame(dictDF)\n",
    "\n",
    "df.head()"
   ]
  },
  {
   "cell_type": "markdown",
   "id": "19839bd2-bf9d-4fd7-b77b-46c6d201667f",
   "metadata": {},
   "source": [
    "## Notas de los parciales"
   ]
  },
  {
   "cell_type": "code",
   "execution_count": null,
   "id": "577148d9-9b4c-4102-b6c5-2584aa14fc8e",
   "metadata": {
    "tags": []
   },
   "outputs": [],
   "source": [
    "order = df.groupby(by=['CORREO'], as_index=False).count().sort_values(by='SEMANA', ascending=False)\n",
    "\n",
    "lista = list(order[order['SEMANA'] >= 5]['CORREO'])"
   ]
  },
  {
   "cell_type": "code",
   "execution_count": null,
   "id": "68c50bed-3881-4b6e-98b1-565e4c438381",
   "metadata": {
    "tags": []
   },
   "outputs": [],
   "source": [
    "notDict = {\n",
    "    'CORREO': list(),\n",
    "    'PARCIAL 1': list(),\n",
    "    'PARCIAL 2': list(),\n",
    "    'PARCIAL 3': list(),\n",
    "    'PARCIAL 4': list(),\n",
    "    'FINAL': list()\n",
    "}\n",
    "\n",
    "equal = {\n",
    "    'PARCIAL 1': 'P1',\n",
    "    'PARCIAL 2': 'P2',\n",
    "    'PARCIAL 3': 'P3',\n",
    "    'PARCIAL 4': 'P4',\n",
    "    'FINAL': 'Final'\n",
    "}\n",
    "\n",
    "notas = pd.read_csv('./DATA/Notas_Entrenados.csv')\n",
    "\n",
    "for e in lista:\n",
    "    notDict['CORREO'].append(e)\n",
    "    for k,v in equal.items():\n",
    "        try:\n",
    "            notDict[k].append(float(notas[notas['E-MAIL'] == e][v]))\n",
    "        except TypeError:\n",
    "            notDict[k].append(0)\n",
    "\n",
    "dfNotas = pd.DataFrame(notDict)\n",
    "\n",
    "dfNotas"
   ]
  },
  {
   "cell_type": "markdown",
   "id": "a7fd8cda-abc4-409c-a86f-094a8bf501fb",
   "metadata": {},
   "source": [
    "## Carga academica"
   ]
  },
  {
   "cell_type": "code",
   "execution_count": null,
   "id": "347a9be8-38ba-48c3-b46d-04bf730c2259",
   "metadata": {
    "tags": []
   },
   "outputs": [],
   "source": [
    "resume = {\n",
    "    'EMAIL': list(),\n",
    "    'SESIONES': list(),\n",
    "    'CREDITOS': list(),\n",
    "    'CARRERA': list(),\n",
    "    'ENTRENAMIENTOS': list()\n",
    "}\n",
    "\n",
    "title = 'Resumen final del semestre 2023-2S'"
   ]
  },
  {
   "cell_type": "code",
   "execution_count": null,
   "id": "00ad796e-5f6a-4c39-867f-0e2104026c57",
   "metadata": {
    "tags": []
   },
   "outputs": [],
   "source": [
    "sia = pd.read_csv('./DATA/2023_1S.csv')\n",
    "\n",
    "email = set(df['CORREO'])\n",
    "\n",
    "for e in email:\n",
    "    resume['EMAIL'].append(e)\n",
    "    resume['SESIONES'].append(df[df['CORREO'] == e]['SEMANA'].count())\n",
    "    resume['CREDITOS'].append(sia[sia['EMAIL'] == e]['CREDITOS'].sum())\n",
    "    c = list(df[df['CORREO'] == e]['CARRERA'])\n",
    "    resume['CARRERA'].append(c[0])\n",
    "    resume['ENTRENAMIENTOS'].append(df[df['CORREO'] == e]['CALIFICACION'].mean())\n",
    "\n",
    "dk = pd.DataFrame(resume)\n",
    "dk.head(5)"
   ]
  },
  {
   "cell_type": "markdown",
   "id": "907e606f-d4aa-4198-a546-28b11bbafe3e",
   "metadata": {
    "jp-MarkdownHeadingCollapsed": true,
    "tags": []
   },
   "source": [
    "# Analisis y Estadisticas"
   ]
  },
  {
   "cell_type": "code",
   "execution_count": null,
   "id": "0383089f-25d9-447a-9478-28e31606c239",
   "metadata": {
    "tags": []
   },
   "outputs": [],
   "source": [
    "plt.style.use('ggplot')"
   ]
  },
  {
   "cell_type": "markdown",
   "id": "cdc4cc8b-dc95-4737-be8e-f9e676d35c11",
   "metadata": {},
   "source": [
    "## Resumen del semestre"
   ]
  },
  {
   "cell_type": "code",
   "execution_count": null,
   "id": "eb7e9cef-4e78-448d-a01c-5609e78dcf79",
   "metadata": {
    "tags": []
   },
   "outputs": [],
   "source": [
    "weekly = df.groupby(['SEMANA', 'GRUPO', 'GENERO']).count()"
   ]
  },
  {
   "cell_type": "code",
   "execution_count": null,
   "id": "211ae53c-ee4c-46a8-a881-6799f190a711",
   "metadata": {
    "tags": []
   },
   "outputs": [],
   "source": [
    "fig = plt.figure(figsize=(10, 5))\n",
    "\n",
    "sns.lineplot(\n",
    "    data=weekly,\n",
    "    x='SEMANA',\n",
    "    y='CORREO',\n",
    "    hue='GRUPO',\n",
    "    marker='o',\n",
    "    errorbar=('ci', 0),\n",
    "    palette=sns.color_palette('tab10', 19)\n",
    ")\n",
    "\n",
    "plt.legend(loc=(1.05,0))\n",
    "plt.ylabel('ASISTENCIA')\n",
    "plt.savefig('images/SemanaAsistenciaGrupo.jpg', format='jpg', bbox_inches='tight', dpi='figure')\n",
    "plt.show()"
   ]
  },
  {
   "cell_type": "code",
   "execution_count": null,
   "id": "94986bd9-14f3-4d0e-ab9c-f53665281cd4",
   "metadata": {
    "tags": []
   },
   "outputs": [],
   "source": [
    "fig = plt.figure(figsize=(8, 5))\n",
    "\n",
    "sns.histplot(\n",
    "    data=df,\n",
    "    x='SEMANA',\n",
    "    hue='GENERO',\n",
    "    multiple='dodge'\n",
    ")\n",
    "\n",
    "plt.ylabel('ASISTENCIA')\n",
    "#plt.title('Asistencia por genero a lo largo del semestre')\n",
    "plt.savefig('images/SemanaAsistenciaGenero.jpg', format='jpg', bbox_inches='tight', dpi='figure')\n",
    "plt.show()"
   ]
  },
  {
   "cell_type": "code",
   "execution_count": null,
   "id": "90668b0b-959c-4436-ac0c-0d7f702b1462",
   "metadata": {
    "tags": []
   },
   "outputs": [],
   "source": [
    "sns.histplot(\n",
    "    data=df,\n",
    "    y='CARRERA',\n",
    "    hue='GENERO',\n",
    "    multiple='dodge'\n",
    ")\n",
    "\n",
    "plt.xlabel('ASISTENCIA')\n",
    "#plt.title('Asistencia por carrera filtrado por genero')\n",
    "plt.savefig('images/AsistenciaCarreraGenero.jpg', format='jpg', bbox_inches='tight', dpi='figure')\n",
    "plt.show()"
   ]
  },
  {
   "cell_type": "markdown",
   "id": "99266bd3-43af-4121-be8d-a9bf1d233b90",
   "metadata": {},
   "source": [
    "## Analisis ultima semana"
   ]
  },
  {
   "cell_type": "code",
   "execution_count": null,
   "id": "41528da9-bcca-4bfe-952b-6984b5ebe735",
   "metadata": {
    "tags": []
   },
   "outputs": [],
   "source": [
    "lastWeek = df[df['SEMANA'] == list(df['SEMANA'])[-1]]\n",
    "\n",
    "lastWeek.head()"
   ]
  },
  {
   "cell_type": "code",
   "execution_count": null,
   "id": "33a46a74-9d90-4e0b-baed-cbe3cf5e6987",
   "metadata": {
    "tags": []
   },
   "outputs": [],
   "source": [
    "fig = plt.figure(figsize=(8, 5))\n",
    "\n",
    "sns.histplot(\n",
    "    data=lastWeek,\n",
    "    y='GRUPO'\n",
    ")\n",
    "\n",
    "plt.xlabel('ASISTENCIA')\n",
    "#plt.title('Asistencia por grupos en la ultima semana')\n",
    "plt.savefig('images/AsistenciaGrupo.jpg', format='jpg', bbox_inches='tight', dpi='figure')\n",
    "plt.show()"
   ]
  },
  {
   "cell_type": "code",
   "execution_count": null,
   "id": "c657c4a0-8bcd-44a3-a84a-f5a16531ca00",
   "metadata": {
    "tags": []
   },
   "outputs": [],
   "source": [
    "fig = plt.figure(figsize=(8, 5))\n",
    "\n",
    "sns.histplot(\n",
    "    data=lastWeek,\n",
    "    y='GRUPO',\n",
    "    hue='GENERO',\n",
    "    multiple='dodge'\n",
    ")\n",
    "\n",
    "plt.xlabel('ASISTENCIA')\n",
    "#plt.title('Asistencia por grupo en la ultima semana, por genero')\n",
    "plt.savefig('images/GrupoAsistenciaGenero.jpg', format='jpg', bbox_inches='tight', dpi='figure')\n",
    "plt.show()"
   ]
  },
  {
   "cell_type": "markdown",
   "id": "83c840e1-5ed8-4047-b450-17569a33e6a9",
   "metadata": {},
   "source": [
    "## Analisis de las notas de los parciales"
   ]
  },
  {
   "cell_type": "code",
   "execution_count": null,
   "id": "d22ced5c-22bd-4342-8a55-d3e22e819097",
   "metadata": {},
   "outputs": [],
   "source": [
    "graph = {\n",
    "    'PARCIAL 1': 0,\n",
    "    'PARCIAL 2': 1,\n",
    "    'PARCIAL 3': 2,\n",
    "    'PARCIAL 4': 3\n",
    "}\n",
    "\n",
    "fig, ax = plt.subplots(4, 1, figsize=[10, 20])\n",
    "\n",
    "for k,v in graph.items():\n",
    "    sns.histplot(\n",
    "        data=dfNotas,\n",
    "        x=k,\n",
    "        ax=ax[v]\n",
    "    )\n",
    "    ax[v].set_ylabel('ESTUDIANTES')\n",
    "\n",
    "plt.savefig('images/NotaDefinitiva.jpg', format='jpg', bbox_inches='tight', dpi='figure')\n",
    "plt.show()"
   ]
  },
  {
   "cell_type": "markdown",
   "id": "9539dd0d-92c6-40bb-9f2b-01c557ef8cf4",
   "metadata": {},
   "source": [
    "## Resumen final del semestre"
   ]
  },
  {
   "cell_type": "code",
   "execution_count": null,
   "id": "37e1e05e-047a-48e9-8381-fba3718aa945",
   "metadata": {
    "tags": []
   },
   "outputs": [],
   "source": [
    "fig = plt.figure(figsize=(8, 5))\n",
    "\n",
    "sns.histplot(\n",
    "    data=dk,\n",
    "    x='SESIONES'\n",
    ")\n",
    "\n",
    "plt.ylabel('ESTUDIANTES')\n",
    "plt.xlim([0, 61])\n",
    "#plt.title('Numero de estudiantes por sesiones asistidas')\n",
    "plt.savefig('images/SesionesEstudiantes.jpg', format='jpg', bbox_inches='tight', dpi='figure')\n",
    "plt.show()"
   ]
  },
  {
   "cell_type": "code",
   "execution_count": null,
   "id": "9f038679-30bf-45ed-8219-dd298b9841b4",
   "metadata": {
    "tags": []
   },
   "outputs": [],
   "source": [
    "sns.histplot(\n",
    "    data=dk,\n",
    "    x='CREDITOS'\n",
    ")\n",
    "\n",
    "plt.ylabel('ESTUDIANTES')\n",
    "#plt.title('Carga academica de los estudiantes')\n",
    "plt.savefig('images/EstudiantesCreditos.jpg', format='jpg', bbox_inches='tight', dpi='figure')\n",
    "plt.show()"
   ]
  },
  {
   "cell_type": "markdown",
   "id": "06e75dcc-ef44-4aca-ad56-d5a9e949b291",
   "metadata": {
    "jp-MarkdownHeadingCollapsed": true,
    "tags": []
   },
   "source": [
    "# Informe"
   ]
  },
  {
   "cell_type": "code",
   "execution_count": null,
   "id": "b83ea83d-8977-4cf3-860d-94e62eaa3208",
   "metadata": {
    "tags": []
   },
   "outputs": [],
   "source": [
    "dl = pd.read_excel('MinasContigo.xlsx', sheet_name='Entrenadores')\n",
    "\n",
    "entrenadores = '<table>'\n",
    "\n",
    "x = dl['GRUPOS'].count()\n",
    "\n",
    "for y in range(0, x, 1):\n",
    "    entrenadores += '<tr><td>' + dl['GRUPOS'][y] + '</td><td>' + dl['NOMBRE'][y] + '</td><td>' + dl['EMAIL'][y] + '</td></tr>'\n",
    "\n",
    "entrenadores += '</table>'"
   ]
  },
  {
   "cell_type": "code",
   "execution_count": null,
   "id": "6aa82472-2bcc-4f6a-96d4-e75ef232c437",
   "metadata": {
    "tags": []
   },
   "outputs": [],
   "source": [
    "listComments = str()\n",
    "\n",
    "notcomment = ['.']\n",
    "\n",
    "for g in list(dl['GRUPOS']):\n",
    "    listComments += '\\n### ' + g + '\\n'\n",
    "    zero = True\n",
    "    for c in lastWeek[lastWeek['GRUPO'] == g]['COMENTARIOS']:\n",
    "        try:\n",
    "            if notcomment.count(c) == 0:\n",
    "                listComments += '\\n* ' + c + '\\n'\n",
    "                zero = False\n",
    "        except TypeError:\n",
    "            pass\n",
    "    if zero:\n",
    "        listComments += '\\n* Sin Comentarios\\n'"
   ]
  },
  {
   "cell_type": "code",
   "execution_count": null,
   "id": "93f89334-5a04-4625-9d6e-64335977b061",
   "metadata": {
    "tags": []
   },
   "outputs": [],
   "source": [
    "with open('README.md', 'w') as file:\n",
    "    file.write('# Entrenamientos MinasContigo')\n",
    "    file.write('\\n## ' + title + '\\n')\n",
    "    file.write('\\n' + entrenadores + '\\n')\n",
    "    file.write('\\n### Asistencia en cada grupo durante la ultima semana\\n')\n",
    "    file.write('\\n![](images/AsistenciaGrupo.jpg)\\n')\n",
    "    file.write('\\n#### Asistencia en cada grupo durante la ultima semana filtrado por genero\\n')\n",
    "    file.write('\\n![](images/GrupoAsistenciaGenero.jpg)\\n')\n",
    "    file.write('\\n### Historico de asistencias por grupo\\n')\n",
    "    file.write('\\n![](images/SemanaAsistenciaGrupo.jpg)\\n')\n",
    "    file.write('\\n#### Historico de asistencias por grupo, filtrado por genero\\n')\n",
    "    file.write('\\n![](images/SemanaAsistenciaGenero.jpg)\\n')\n",
    "    file.write('\\n### Distribucion de las carreras, filtrada por genero\\n')\n",
    "    file.write('\\n![](images/AsistenciaCarreraGenero.jpg)\\n')\n",
    "    if final:\n",
    "        file.write('\\n### Numero de sesiones por estudiantes que han asistido\\n')\n",
    "        file.write('\\n![](images/SesionesEstudiantes.jpg)\\n')\n",
    "    if carga:\n",
    "        file.write('\\n### Carga academica de los entrenados\\n')\n",
    "        file.write('\\n![](images/EstudiantesCreditos.jpg)\\n')\n",
    "    if notas_parciales:\n",
    "        file.write('\\n### Notas de los estudiantes, en los parciales\\n')\n",
    "        file.write('\\n![](images/NotaDefinitiva.jpg)\\n')\n",
    "    file.write('\\n## Comentarios en la ultima semana\\n')\n",
    "    file.write(listComments)\n",
    "    file.close()"
   ]
  },
  {
   "cell_type": "code",
   "execution_count": null,
   "id": "ed734af2-b3eb-46d4-91a8-fa3381f5112a",
   "metadata": {},
   "outputs": [],
   "source": []
  },
  {
   "cell_type": "code",
   "execution_count": null,
   "id": "6f2d2edd-fc6f-44e5-9776-f694bc8d30bc",
   "metadata": {},
   "outputs": [],
   "source": []
  }
 ],
 "metadata": {
  "kernelspec": {
   "display_name": "Python 3 (ipykernel)",
   "language": "python",
   "name": "python3"
  },
  "language_info": {
   "codemirror_mode": {
    "name": "ipython",
    "version": 3
   },
   "file_extension": ".py",
   "mimetype": "text/x-python",
   "name": "python",
   "nbconvert_exporter": "python",
   "pygments_lexer": "ipython3",
   "version": "3.10.9"
  }
 },
 "nbformat": 4,
 "nbformat_minor": 5
}
